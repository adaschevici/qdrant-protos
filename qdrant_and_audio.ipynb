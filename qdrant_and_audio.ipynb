{
 "cells": [
  {
   "cell_type": "code",
   "execution_count": 5,
   "id": "7ecc7a24-6d18-44d9-b9f6-b8289aa015a9",
   "metadata": {},
   "outputs": [],
   "source": [
    "from transformers import AutoFeatureExtractor, AutoModel\n",
    "from IPython.display import Audio as player\n",
    "from datasets import load_dataset, Audio\n",
    "from qdrant_client import QdrantClient\n",
    "from qdrant_client.http import models\n",
    "from os.path import join\n",
    "from pathlib import Path\n",
    "from glob import glob\n",
    "import pandas as pd\n",
    "import numpy as np\n",
    "import librosa\n",
    "import torch"
   ]
  },
  {
   "cell_type": "code",
   "execution_count": 6,
   "id": "eb6849fd-2ec5-4b0e-b11f-4ed7dbdf4b83",
   "metadata": {},
   "outputs": [],
   "source": [
    "client = QdrantClient(host=\"localhost\", port=6333)"
   ]
  },
  {
   "cell_type": "code",
   "execution_count": 7,
   "id": "7886843c-6641-4192-885e-a98d8a63dc1d",
   "metadata": {},
   "outputs": [
    {
     "data": {
      "text/plain": [
       "True"
      ]
     },
     "execution_count": 7,
     "metadata": {},
     "output_type": "execute_result"
    }
   ],
   "source": [
    "my_collection = \"music_collection\"\n",
    "client.recreate_collection(\n",
    "    collection_name=my_collection,\n",
    "    vectors_config=models.VectorParams(size=768, distance=models.Distance.COSINE)\n",
    ")"
   ]
  },
  {
   "cell_type": "markdown",
   "id": "0bf1f67d-3a46-41c7-92c4-ada66aae1272",
   "metadata": {},
   "source": [
    "# 2. Data Prep"
   ]
  },
  {
   "cell_type": "code",
   "execution_count": 8,
   "id": "6a274f73-b0e5-49f6-919f-52eec0e8e1b4",
   "metadata": {},
   "outputs": [
    {
     "data": {
      "text/plain": [
       "PosixPath('ludwig-dataset')"
      ]
     },
     "execution_count": 8,
     "metadata": {},
     "output_type": "execute_result"
    }
   ],
   "source": [
    "data_path = Path(f\"ludwig-dataset\")\n",
    "data_path"
   ]
  },
  {
   "cell_type": "code",
   "execution_count": 11,
   "id": "89e3bb77-4625-4491-9c38-f27e003b3844",
   "metadata": {},
   "outputs": [
    {
     "data": {
      "application/vnd.jupyter.widget-view+json": {
       "model_id": "014003bb3208404c82ca7b57e2a64042",
       "version_major": 2,
       "version_minor": 0
      },
      "text/plain": [
       "Resolving data files:   0%|          | 0/979 [00:00<?, ?it/s]"
      ]
     },
     "metadata": {},
     "output_type": "display_data"
    },
    {
     "data": {
      "text/plain": [
       "Dataset({\n",
       "    features: ['audio'],\n",
       "    num_rows: 400\n",
       "})"
      ]
     },
     "execution_count": 11,
     "metadata": {},
     "output_type": "execute_result"
    }
   ],
   "source": [
    "data_dir = data_path / \"mp3\" / \"mp3\" / \"latin\"\n",
    "music_data = load_dataset(\n",
    "    \"audiofolder\", data_dir=data_dir, split=\"train\", drop_labels=True\n",
    ").shuffle(42).select(range(400))\n",
    "music_data"
   ]
  },
  {
   "cell_type": "code",
   "execution_count": 12,
   "id": "2cdd5feb-9a9b-4da7-8918-17fcf55f6951",
   "metadata": {},
   "outputs": [
    {
     "data": {
      "text/plain": [
       "{'audio': {'path': '/Users/zero/projects/python-playground/DS-playground/qdrant-search/ludwig-dataset/mp3/mp3/latin/1g8TA3JM0K0kxtQi4n38qk.mp3',\n",
       "  'array': array([-0.0751303 , -0.11050164, -0.11514139, ...,  0.22492811,\n",
       "          0.2993504 ,  0.22477728]),\n",
       "  'sampling_rate': 44100}}"
      ]
     },
     "execution_count": 12,
     "metadata": {},
     "output_type": "execute_result"
    }
   ],
   "source": [
    "music_data[115]"
   ]
  }
 ],
 "metadata": {
  "kernelspec": {
   "display_name": "Python 3 (ipykernel)",
   "language": "python",
   "name": "python3"
  },
  "language_info": {
   "codemirror_mode": {
    "name": "ipython",
    "version": 3
   },
   "file_extension": ".py",
   "mimetype": "text/x-python",
   "name": "python",
   "nbconvert_exporter": "python",
   "pygments_lexer": "ipython3",
   "version": "3.11.8"
  }
 },
 "nbformat": 4,
 "nbformat_minor": 5
}
