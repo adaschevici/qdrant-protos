{
 "cells": [
  {
   "cell_type": "code",
   "execution_count": 3,
   "id": "e46e8fb6-4a2a-4187-a236-97b725f30622",
   "metadata": {},
   "outputs": [],
   "source": [
    "from datasets import load_dataset"
   ]
  },
  {
   "cell_type": "code",
   "execution_count": 4,
   "id": "26be69e4-d454-4d7c-af9a-db39e71b7ace",
   "metadata": {},
   "outputs": [
    {
     "data": {
      "text/plain": [
       "Dataset({\n",
       "    features: ['text', 'label'],\n",
       "    num_rows: 120000\n",
       "})"
      ]
     },
     "execution_count": 4,
     "metadata": {},
     "output_type": "execute_result"
    }
   ],
   "source": [
    "dataset = load_dataset(\"ag_news\", split=\"train\")\n",
    "dataset"
   ]
  },
  {
   "cell_type": "markdown",
   "id": "53cd38ca-b59d-4259-95ad-e715dc8598a0",
   "metadata": {},
   "source": [
    "## Examine the dataset"
   ]
  },
  {
   "cell_type": "code",
   "execution_count": 6,
   "id": "e25159bb-ad03-4f14-825e-9c426d34272e",
   "metadata": {},
   "outputs": [
    {
     "name": "stdout",
     "output_type": "stream",
     "text": [
      "Sample 1\n",
      "======================================================================\n",
      "Court Rejects Child Porn Internet Law A federal court Friday struck down as unconstitutional a path-breaking Pennsylvania law designed to prevent Internet users from seeing Web sites that contain child pornography.\n",
      "\n",
      "Sample 2\n",
      "======================================================================\n",
      "Manchester United manager wants to get to the bottom of  #39;Soupgate #39; Manchester United manager Sir Alex Ferguson wants to get the bottom of the  quot;Soupgate quot; affair. Ferguson was forced to change clothes after United #39;s 2-0 victory Sunday over Arsenal.\n",
      "\n",
      "Sample 3\n",
      "======================================================================\n",
      "'Distribution System Is Not Working' A week into one of  South Asia's most devastating disasters in history, an international campaign to help Indonesia recover has at last moved into gear. But from the airport on, the distribution system slapped together has proved spotty at best.\n",
      "\n",
      "Sample 4\n",
      "======================================================================\n",
      "Thompson Resigns from East Carolina Post  GREENVILLE, N.C. (Sports Network) - East Carolina head  football coach John Thompson announced his resignation,  effective at the end of the season, on Wednesday.\n",
      "\n",
      "Sample 5\n",
      "======================================================================\n",
      "Karzai  #39;disturbed #39; at Kabul bomb Afghanistan #39;s President Hamid Karzai says he is deeply disturbed by a bomb attack in the capital Kabul in which at least seven people died.\n",
      "\n"
     ]
    }
   ],
   "source": [
    "from random import choice\n",
    "\n",
    "for i in range(5):\n",
    "    random_sample = choice(range(len(dataset)))\n",
    "    print(f\"Sample {i+1}\")\n",
    "    print(\"=\" * 70)\n",
    "    print(dataset[random_sample]['text'])\n",
    "    print()"
   ]
  },
  {
   "cell_type": "code",
   "execution_count": 7,
   "id": "5a912cae-1958-4aa1-8520-ec88cb927901",
   "metadata": {},
   "outputs": [],
   "source": [
    "id2label = {str(i): label for i, label in enumerate(dataset.features[\"label\"].names)}"
   ]
  },
  {
   "cell_type": "code",
   "execution_count": 10,
   "id": "5661e6c9-9b2d-44a1-9a0d-f13898bfe0e3",
   "metadata": {},
   "outputs": [
    {
     "data": {
      "image/png": "[encoded data removed]",
      "text/plain": [
       "<Figure size 640x480 with 1 Axes>"
      ]
     },
     "metadata": {},
     "output_type": "display_data"
    }
   ],
   "source": [
    "(\n",
    "    dataset.select_columns('label')\n",
    "        .to_pandas()\n",
    "        .astype(str)['label']\n",
    "        .map(id2label)\n",
    "        .value_counts()\n",
    "        .plot(kind=\"barh\", title=\"Frequency with which each label appears\")\n",
    ");"
   ]
  }
 ],
 "metadata": {
  "kernelspec": {
   "display_name": "Python 3 (ipykernel)",
   "language": "python",
   "name": "python3"
  },
  "language_info": {
   "codemirror_mode": {
    "name": "ipython",
    "version": 3
   },
   "file_extension": ".py",
   "mimetype": "text/x-python",
   "name": "python",
   "nbconvert_exporter": "python",
   "pygments_lexer": "ipython3",
   "version": "3.11.8"
  }
 },
 "nbformat": 4,
 "nbformat_minor": 5
}
