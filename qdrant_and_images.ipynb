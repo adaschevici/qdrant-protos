{
 "cells": [
  {
   "cell_type": "code",
   "execution_count": 1,
   "id": "d498bef6-67ab-4f83-a688-60927b66699e",
   "metadata": {},
   "outputs": [],
   "source": [
    "from transformers import ViTImageProcessor, ViTModel\n",
    "from qdrant_client import QdrantClient\n",
    "from qdrant_client.http import models\n",
    "from datasets import load_dataset\n",
    "import numpy as np\n",
    "import torch\n"
   ]
  },
  {
   "cell_type": "code",
   "execution_count": 2,
   "id": "72594cc5-348c-4e92-8b02-4f6ccd8bf3a0",
   "metadata": {},
   "outputs": [],
   "source": [
    "client  = QdrantClient(host=\"localhost\", port=6333)"
   ]
  },
  {
   "cell_type": "code",
   "execution_count": null,
   "id": "cf22443c-e03b-409e-a406-5d9aab1b5107",
   "metadata": {},
   "outputs": [],
   "source": [
    "my_collection = \"image_collection\"\n",
    "client.recreate_collection(\n",
    "    collection_name=my_collection,\n",
    "    vectors_config=models.VectorParams(size=384, distance=models.Distance.COSINE)\n",
    ")"
   ]
  },
  {
   "cell_type": "markdown",
   "id": "154c09ce-ae48-47a6-9f5b-7e5c3eed36e4",
   "metadata": {},
   "source": [
    "## Image embeddings"
   ]
  },
  {
   "cell_type": "code",
   "execution_count": null,
   "id": "6a5c2e78-c17b-4527-93d3-0bb02f409952",
   "metadata": {},
   "outputs": [
    {
     "data": {
      "application/vnd.jupyter.widget-view+json": {
       "model_id": "c4b9de98986345a8bea59799cc0a7acf",
       "version_major": 2,
       "version_minor": 0
      },
      "text/plain": [
       "Downloading readme:   0%|          | 0.00/3.24k [00:00<?, ?B/s]"
      ]
     },
     "metadata": {},
     "output_type": "display_data"
    },
    {
     "name": "stderr",
     "output_type": "stream",
     "text": [
      "Downloading data: 100%|████████████████████████████████████████████████████████████████████████████████████████████████| 521M/521M [01:13<00:00, 7.08MB/s]\n",
      "Downloading data: 100%|████████████████████████████████████████████████████████████████████████████████████████████████| 525M/525M [00:52<00:00, 10.1MB/s]\n",
      "Downloading data: 100%|████████████████████████████████████████████████████████████████████████████████████████████████| 527M/527M [00:48<00:00, 10.9MB/s]\n",
      "Downloading data: 100%|████████████████████████████████████████████████████████████████████████████████████████████████| 528M/528M [00:48<00:00, 10.8MB/s]\n",
      "Downloading data: 100%|████████████████████████████████████████████████████████████████████████████████████████████████| 548M/548M [00:30<00:00, 17.8MB/s]\n",
      "Downloading data: 100%|████████████████████████████████████████████████████████████████████████████████████████████████| 341M/341M [00:33<00:00, 10.2MB/s]\n",
      "Downloading data:  98%|█████████████████████████████████████████████████████████████████████████████████████████████▋  | 340M/348M [00:49<00:01, 5.79MB/s]"
     ]
    }
   ],
   "source": [
    "dataset = load_dataset(\"marmal88/skin_cancer\", split=\"train\")\n",
    "dataset"
   ]
  },
  {
   "cell_type": "code",
   "execution_count": null,
   "id": "ba9bc21b-71ce-40a3-a298-ba878c81a938",
   "metadata": {},
   "outputs": [],
   "source": [
    "dataset[8500]"
   ]
  }
 ],
 "metadata": {
  "kernelspec": {
   "display_name": "Python 3 (ipykernel)",
   "language": "python",
   "name": "python3"
  },
  "language_info": {
   "codemirror_mode": {
    "name": "ipython",
    "version": 3
   },
   "file_extension": ".py",
   "mimetype": "text/x-python",
   "name": "python",
   "nbconvert_exporter": "python",
   "pygments_lexer": "ipython3",
   "version": "3.11.8"
  }
 },
 "nbformat": 4,
 "nbformat_minor": 5
}
