{
 "cells": [
  {
   "cell_type": "code",
   "execution_count": 1,
   "id": "97f09d64-9edc-4ac5-a380-aef081c14401",
   "metadata": {},
   "outputs": [],
   "source": [
    "from qdrant_client import QdrantClient\n",
    "from qdrant_client.http import models\n",
    "import numpy as np\n",
    "from faker import Faker"
   ]
  },
  {
   "cell_type": "code",
   "execution_count": 3,
   "id": "2a916969-2f4a-474f-995a-19e8533de9a9",
   "metadata": {},
   "outputs": [
    {
     "data": {
      "text/plain": [
       "<qdrant_client.qdrant_client.QdrantClient at 0x10e71a250>"
      ]
     },
     "execution_count": 3,
     "metadata": {},
     "output_type": "execute_result"
    }
   ],
   "source": [
    "client = QdrantClient(host=\"localhost\", port=6333)\n",
    "client"
   ]
  },
  {
   "cell_type": "code",
   "execution_count": 4,
   "id": "b6331445-c5c1-49dc-8246-1577a7266f20",
   "metadata": {},
   "outputs": [
    {
     "data": {
      "text/plain": [
       "True"
      ]
     },
     "execution_count": 4,
     "metadata": {},
     "output_type": "execute_result"
    }
   ],
   "source": [
    "my_collection = \"first_collection\"\n",
    "client.create_collection(\n",
    "    collection_name=my_collection,\n",
    "    vectors_config=models.VectorParams(size=100, distance=models.Distance.COSINE)\n",
    ")"
   ]
  },
  {
   "cell_type": "code",
   "execution_count": 12,
   "id": "84f58561-ece7-4fb5-b929-069217d13594",
   "metadata": {},
   "outputs": [],
   "source": [
    "data = np.random.uniform(low=-1.0, high=1.0, size=(1_000, 100))\n",
    "index = list(range(len(data)))"
   ]
  },
  {
   "cell_type": "code",
   "execution_count": null,
   "id": "f07bd21c-c667-4309-8804-980978772aad",
   "metadata": {},
   "outputs": [],
   "source": [
    "data[:2, :10]"
   ]
  },
  {
   "cell_type": "code",
   "execution_count": 10,
   "id": "91447bd1-79b1-4a1e-9b68-6caa7a2f520b",
   "metadata": {},
   "outputs": [
    {
     "ename": "SyntaxError",
     "evalue": "incomplete input (2260647823.py, line 1)",
     "output_type": "error",
     "traceback": [
      "\u001b[0;36m  Cell \u001b[0;32mIn[10], line 1\u001b[0;36m\u001b[0m\n\u001b[0;31m    index[:-10\u001b[0m\n\u001b[0m              ^\u001b[0m\n\u001b[0;31mSyntaxError\u001b[0m\u001b[0;31m:\u001b[0m incomplete input\n"
     ]
    }
   ],
   "source": [
    "index[:-10]"
   ]
  },
  {
   "cell_type": "code",
   "execution_count": 14,
   "id": "2d57001f-3cd4-44aa-88bf-aa4e9a5d6582",
   "metadata": {},
   "outputs": [
    {
     "data": {
      "text/plain": [
       "UpdateResult(operation_id=0, status=<UpdateStatus.COMPLETED: 'completed'>)"
      ]
     },
     "execution_count": 14,
     "metadata": {},
     "output_type": "execute_result"
    }
   ],
   "source": [
    "client.upsert(\n",
    "    collection_name=my_collection,\n",
    "    points=models.Batch(\n",
    "        ids=index,\n",
    "        vectors=data.tolist()\n",
    "    )\n",
    ")"
   ]
  },
  {
   "cell_type": "code",
   "execution_count": 16,
   "id": "c5421a7b-3c52-4cc9-9b5d-823559d5f762",
   "metadata": {},
   "outputs": [
    {
     "data": {
      "text/plain": [
       "[Record(id=10, payload={}, vector=[-0.011372728, 0.119516686, 0.083762184, -0.02461968, 0.029361432, -0.17252031, 0.031493176, 0.16062932, 0.13710298, 0.06220982, -0.08088169, 0.16570649, -0.012590312, -0.12681308, -0.12606704, 0.08646026, 0.041210733, -0.08251057, 0.17204265, -0.08245342, -0.018393032, 0.039341573, 0.10318609, -0.13219635, -0.13893276, 0.07218921, 0.04498553, -0.036600243, 0.11096045, 0.06324486, 0.16248618, -0.062345643, -0.118802615, -0.11066045, -0.10128554, -0.032076705, -0.0080039045, -0.068044975, -0.0069813253, 0.13910457, -0.056120656, 0.094681844, 0.1725404, -0.050081328, -0.12026461, 0.11330385, 0.08327986, -0.10025092, 0.115296066, -0.05580845, 0.0640668, -0.06856974, 0.16219778, 0.07556238, 0.08351952, -0.04834676, 0.0041681495, -0.14655124, 0.04794741, 0.05720926, -0.056891944, 0.0786138, -0.16428155, -0.11897887, -0.09901335, 0.061752193, -0.077501945, 0.14963296, -0.03251117, -0.14589761, 0.12838978, -0.076444164, 0.03643285, 0.09045592, 0.033275757, 0.14955667, 0.0054928893, 0.032690797, 0.052538443, -0.011679073, -0.17381723, 0.13661689, -0.015215253, 0.15911734, 0.07438152, -0.1260581, -0.052357934, -0.13004175, 0.11751086, 0.024357116, -0.011507338, 0.019957498, -0.14614806, -0.15332088, -0.07622389, 0.16279419, 0.13998504, -0.13753639, -0.047715627, 0.09066389], shard_key=None),\n",
       " Record(id=500, payload={}, vector=[-0.07047305, -0.028543662, -0.12959544, -0.037101377, -0.04342134, 0.10198819, 0.03860848, -0.012552763, 0.09562635, -0.04714124, 0.12838914, 0.043009527, 0.033726282, -0.08994108, 0.1565008, -0.096025705, 0.073316, -0.016523281, 0.052824296, 0.12722734, -0.109913014, -0.025329016, -0.08628239, 0.06827069, 0.12113084, -0.1483938, -0.09266666, -0.016722385, 0.018430695, -0.09690091, -0.052062847, -0.13136311, 0.06355924, 0.082371466, 0.15917863, -0.07611764, -0.03647367, -0.13076918, 0.011861981, -0.12983969, 0.15257019, 0.09108349, 0.020775376, 0.010609104, 0.06575077, -0.0008220917, -0.13566622, 0.14472435, 0.010046414, -0.14284514, 0.078826874, -0.11160548, 0.1260091, -0.047613423, -0.05186039, 0.10881426, -0.10866571, 0.072562374, 0.14823815, 0.112790465, -0.14042746, -0.10901989, -0.016309462, 0.053653914, 0.15540695, 0.06134397, -0.094016396, -0.13838889, -0.07294218, -0.0893181, 0.11002384, 0.10950026, -0.15370375, -0.09726061, 0.023518562, 0.061577976, 0.119927056, -0.1162997, 0.14735001, 0.120917976, -0.018016549, -0.14724305, -0.14366938, 0.15874223, -0.09384582, -0.06896763, -0.147337, 0.14324476, -0.015335802, -0.11043563, 0.04100049, -0.111567035, 0.026888799, 0.1077237, 0.15347101, 0.1126108, -0.13695458, 0.14392263, -0.122531965, 0.07072124], shard_key=None),\n",
       " Record(id=14, payload={}, vector=[0.11611335, -0.055142395, -0.045130692, 0.031893317, -0.09231772, 0.08748621, -0.011129774, -0.07228896, 0.1515351, 0.033862427, 0.11425123, -0.052866295, -0.0029035984, -0.010903457, -0.106250316, -0.035718482, -0.034131058, -0.12778851, 0.16646796, 0.1310698, -0.09463405, -0.053579215, -0.14930494, -0.0021317939, -0.12345917, -0.093287565, 0.11732082, 0.049054008, -0.07763747, -0.0023644592, 0.11551384, -0.09613514, -0.061007973, -0.12475833, -0.15863918, -0.018972486, 0.13805772, -0.042314127, -0.12436974, -0.06605961, -0.13840888, 0.004630838, 0.040768065, 0.15969129, -0.0088889105, 0.06425414, -0.13204007, 0.13123484, 0.16789962, -0.050508972, 0.08397852, 0.13449937, 0.15413952, -0.11189355, 0.11933133, -0.037149552, -0.010687066, -0.069910556, -0.08956461, 0.1424618, 0.07762138, 0.015767666, 0.011716671, -0.10491078, -0.13543954, -0.09285414, 0.06774755, -0.04295458, -0.15305254, -0.08349901, 0.0985631, -0.14215496, 0.15274204, -0.040559996, 0.14491722, 0.10385654, -0.09702716, 0.15480089, 0.0033943406, -0.075409226, -0.14821912, 0.16104448, -0.14923348, -0.021966133, 0.07251277, 0.0029898132, 0.15585114, -0.034464646, 0.118746236, 0.06545812, 0.038052548, -0.006371786, -0.13081864, -0.10389975, 0.13210267, 0.13677971, -0.007821169, -0.028445153, -0.114578955, 0.151269], shard_key=None)]"
      ]
     },
     "execution_count": 16,
     "metadata": {},
     "output_type": "execute_result"
    }
   ],
   "source": [
    "client.retrieve(\n",
    "    collection_name=my_collection,\n",
    "    ids=[10, 14, 500],\n",
    "    with_vectors=True\n",
    ")"
   ]
  },
  {
   "cell_type": "code",
   "execution_count": 17,
   "id": "dce4ca98-bfd8-49d2-9771-36307646429d",
   "metadata": {},
   "outputs": [
    {
     "data": {
      "text/plain": [
       "('Kimberly Rose', '01619 Rivera Harbor\\nPort Shane, MI 78702')"
      ]
     },
     "execution_count": 17,
     "metadata": {},
     "output_type": "execute_result"
    }
   ],
   "source": [
    "fake_data = Faker()\n",
    "fake_data.name(), fake_data.address()"
   ]
  },
  {
   "cell_type": "code",
   "execution_count": 19,
   "id": "325fb030-d740-4bf7-97e4-3094af524f4c",
   "metadata": {},
   "outputs": [
    {
     "data": {
      "text/plain": [
       "[{'artist': 'Joseph Gonzales',\n",
       "  'song': 'participant improve suggest',\n",
       "  'url_song': 'http://www.green-campbell.com/',\n",
       "  'year': '1984',\n",
       "  'country': 'Albania'},\n",
       " {'artist': 'Andrea Alvarez',\n",
       "  'song': 'book again look',\n",
       "  'url_song': 'http://hill-carney.biz/',\n",
       "  'year': '2008',\n",
       "  'country': 'Oman'},\n",
       " {'artist': 'Dominic Washington',\n",
       "  'song': 'at when student',\n",
       "  'url_song': 'http://shaw-gutierrez.com/',\n",
       "  'year': '1988',\n",
       "  'country': 'Tanzania'}]"
      ]
     },
     "execution_count": 19,
     "metadata": {},
     "output_type": "execute_result"
    }
   ],
   "source": [
    "payload = []\n",
    "\n",
    "for i in range(1_000):\n",
    "    payload.append(\n",
    "        {\n",
    "            \"artist\": fake_data.name(),\n",
    "            \"song\": \" \".join(fake_data.words()),\n",
    "            \"url_song\": fake_data.url(),\n",
    "            \"year\": fake_data.year(),\n",
    "            \"country\": fake_data.country(),\n",
    "        }\n",
    "    )\n",
    "payload[:3]"
   ]
  },
  {
   "cell_type": "code",
   "execution_count": 20,
   "id": "41d350e5-5f29-4b21-84f6-5c4d5c2a5250",
   "metadata": {},
   "outputs": [
    {
     "data": {
      "text/plain": [
       "UpdateResult(operation_id=1, status=<UpdateStatus.COMPLETED: 'completed'>)"
      ]
     },
     "execution_count": 20,
     "metadata": {},
     "output_type": "execute_result"
    }
   ],
   "source": [
    "client.upsert(\n",
    "    collection_name=my_collection,\n",
    "    points=models.Batch(\n",
    "        ids=index,\n",
    "        vectors=data.tolist(),\n",
    "        payloads=payload\n",
    "    )\n",
    ")"
   ]
  },
  {
   "cell_type": "code",
   "execution_count": 21,
   "id": "5c9a6b4d-af79-4021-b508-0a02b7aaf875",
   "metadata": {},
   "outputs": [],
   "source": [
    "## Semantic Search"
   ]
  },
  {
   "cell_type": "code",
   "execution_count": 22,
   "id": "1e2b1caa-c82d-42de-a7f7-ae8919d4e3b0",
   "metadata": {},
   "outputs": [],
   "source": [
    "living_la_vida_loca = np.random.uniform(low=-1.0, high=1.0, size=(100)).tolist()"
   ]
  },
  {
   "cell_type": "code",
   "execution_count": 23,
   "id": "6b27c1d5-30f5-4426-831f-42ac3fcd857d",
   "metadata": {},
   "outputs": [
    {
     "data": {
      "text/plain": [
       "[ScoredPoint(id=583, version=1, score=0.35136586, payload={'artist': 'Ashley Marshall', 'country': 'Cambodia', 'song': 'less ground stop', 'url_song': 'https://brown.com/', 'year': '1974'}, vector=None, shard_key=None),\n",
       " ScoredPoint(id=934, version=1, score=0.3210162, payload={'artist': 'Robert Smith', 'country': 'Cape Verde', 'song': 'seven as start', 'url_song': 'http://johnson-cohen.com/', 'year': '1990'}, vector=None, shard_key=None),\n",
       " ScoredPoint(id=747, version=1, score=0.29749677, payload={'artist': 'Samantha Herrera', 'country': 'Saint Lucia', 'song': 'first cultural firm', 'url_song': 'https://flores.com/', 'year': '1999'}, vector=None, shard_key=None),\n",
       " ScoredPoint(id=949, version=1, score=0.28410935, payload={'artist': 'Andre Rivera', 'country': 'Czech Republic', 'song': 'shoulder field risk', 'url_song': 'https://schwartz.info/', 'year': '1996'}, vector=None, shard_key=None),\n",
       " ScoredPoint(id=283, version=1, score=0.27747548, payload={'artist': 'Denise Farrell', 'country': 'Liechtenstein', 'song': 'if available left', 'url_song': 'http://sanders-stafford.net/', 'year': '2001'}, vector=None, shard_key=None),\n",
       " ScoredPoint(id=842, version=1, score=0.27223712, payload={'artist': 'Gregory Morris', 'country': 'Cayman Islands', 'song': 'degree deal kid', 'url_song': 'https://www.jones.info/', 'year': '1985'}, vector=None, shard_key=None),\n",
       " ScoredPoint(id=923, version=1, score=0.2712211, payload={'artist': 'Eduardo Thompson', 'country': 'United States of America', 'song': 'sit couple pick', 'url_song': 'http://www.evans.com/', 'year': '2001'}, vector=None, shard_key=None),\n",
       " ScoredPoint(id=633, version=1, score=0.26264572, payload={'artist': 'Gregory Evans', 'country': 'Chad', 'song': 'difficult detail hair', 'url_song': 'https://www.davidson-carter.info/', 'year': '1970'}, vector=None, shard_key=None),\n",
       " ScoredPoint(id=92, version=1, score=0.26061144, payload={'artist': 'Theresa Ho', 'country': 'Guatemala', 'song': 'a team true', 'url_song': 'https://miller.com/', 'year': '2009'}, vector=None, shard_key=None),\n",
       " ScoredPoint(id=562, version=1, score=0.24721703, payload={'artist': 'Kelsey Vega', 'country': 'Guyana', 'song': 'art street than', 'url_song': 'http://www.calderon.net/', 'year': '1978'}, vector=None, shard_key=None)]"
      ]
     },
     "execution_count": 23,
     "metadata": {},
     "output_type": "execute_result"
    }
   ],
   "source": [
    "client.search(\n",
    "    collection_name=my_collection,\n",
    "    query_vector=living_la_vida_loca,\n",
    "    limit=10\n",
    ")"
   ]
  },
  {
   "cell_type": "code",
   "execution_count": 28,
   "id": "d4a0073d-9b2c-43d9-95e0-2722ad438d25",
   "metadata": {},
   "outputs": [
    {
     "data": {
      "text/plain": [
       "Filter(should=None, must=[FieldCondition(key='country', match=MatchValue(value='Australia'), range=None, geo_bounding_box=None, geo_radius=None, geo_polygon=None, values_count=None)], must_not=None)"
      ]
     },
     "execution_count": 28,
     "metadata": {},
     "output_type": "execute_result"
    }
   ],
   "source": [
    "aussie_songs = models.Filter(\n",
    "    must=[\n",
    "        models.FieldCondition(\n",
    "            key=\"country\", match=models.MatchValue(value=\"Australia\")\n",
    "        )\n",
    "    ]\n",
    ")\n",
    "aussie_songs"
   ]
  },
  {
   "cell_type": "code",
   "execution_count": 29,
   "id": "cb23be4a-ed0c-4cde-91c9-6e72be3fe688",
   "metadata": {},
   "outputs": [
    {
     "data": {
      "text/plain": [
       "[ScoredPoint(id=818, version=1, score=0.052790254, payload={'artist': 'Justin Wood', 'country': 'Australia', 'song': 'ability several manage', 'url_song': 'https://adams.info/', 'year': '2003'}, vector=None, shard_key=None),\n",
       " ScoredPoint(id=281, version=1, score=-0.1276217, payload={'artist': 'Scott Sweeney', 'country': 'Australia', 'song': 'near discover film', 'url_song': 'https://www.robertson.com/', 'year': '1990'}, vector=None, shard_key=None),\n",
       " ScoredPoint(id=292, version=1, score=-0.205366, payload={'artist': 'Lauren White', 'country': 'Australia', 'song': 'of son claim', 'url_song': 'https://www.romero-roberts.com/', 'year': '1976'}, vector=None, shard_key=None)]"
      ]
     },
     "execution_count": 29,
     "metadata": {},
     "output_type": "execute_result"
    }
   ],
   "source": [
    "client.search(\n",
    "    collection_name=my_collection,\n",
    "    query_vector=living_la_vida_loca,\n",
    "    query_filter=aussie_songs,\n",
    "    limit=3\n",
    ")"
   ]
  },
  {
   "cell_type": "code",
   "execution_count": 31,
   "id": "bed44701-bc89-4165-bb9b-91fe8caab69f",
   "metadata": {},
   "outputs": [],
   "source": [
    "## Recommendation API"
   ]
  },
  {
   "cell_type": "code",
   "execution_count": 35,
   "id": "dd86c30a-2470-4d2a-943a-6df58909cf18",
   "metadata": {},
   "outputs": [
    {
     "data": {
      "text/plain": [
       "[ScoredPoint(id=818, version=1, score=0.07030617, payload={'artist': 'Justin Wood', 'country': 'Australia', 'song': 'ability several manage', 'url_song': 'https://adams.info/', 'year': '2003'}, vector=None, shard_key=None),\n",
       " ScoredPoint(id=281, version=1, score=-0.13908991, payload={'artist': 'Scott Sweeney', 'country': 'Australia', 'song': 'near discover film', 'url_song': 'https://www.robertson.com/', 'year': '1990'}, vector=None, shard_key=None),\n",
       " ScoredPoint(id=292, version=1, score=-0.1928386, payload={'artist': 'Lauren White', 'country': 'Australia', 'song': 'of son claim', 'url_song': 'https://www.romero-roberts.com/', 'year': '1976'}, vector=None, shard_key=None),\n",
       " ScoredPoint(id=78, version=1, score=-0.2341214, payload={'artist': 'Charles Garrett', 'country': 'Australia', 'song': 'my movement state', 'url_song': 'https://mueller-house.net/', 'year': '2014'}, vector=None, shard_key=None)]"
      ]
     },
     "execution_count": 35,
     "metadata": {},
     "output_type": "execute_result"
    }
   ],
   "source": [
    "client.recommend(\n",
    "    collection_name=my_collection,\n",
    "    positive=[17, living_la_vida_loca],\n",
    "    negative=[100, 444],\n",
    "    query_filter=models.Filter(\n",
    "    must=[\n",
    "        models.FieldCondition(\n",
    "            key=\"country\", match=models.MatchValue(value=\"Australia\")\n",
    "        )\n",
    "    ]\n",
    "),\n",
    "    limit=5\n",
    ")"
   ]
  }
 ],
 "metadata": {
  "kernelspec": {
   "display_name": "Python 3 (ipykernel)",
   "language": "python",
   "name": "python3"
  },
  "language_info": {
   "codemirror_mode": {
    "name": "ipython",
    "version": 3
   },
   "file_extension": ".py",
   "mimetype": "text/x-python",
   "name": "python",
   "nbconvert_exporter": "python",
   "pygments_lexer": "ipython3",
   "version": "3.11.8"
  }
 },
 "nbformat": 4,
 "nbformat_minor": 5
}
